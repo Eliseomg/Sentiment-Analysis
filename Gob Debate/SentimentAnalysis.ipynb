{
 "cells": [
  {
   "cell_type": "code",
   "execution_count": 69,
   "metadata": {},
   "outputs": [],
   "source": [
    "import numpy as np\n",
    "import pandas as pd\n",
    "import re\n",
    "import matplotlib.pyplot as plt\n",
    "\n",
    "from keras.preprocessing.text import Tokenizer\n",
    "from keras.preprocessing.sequence import pad_sequences\n",
    "\n",
    "from sklearn.feature_extraction.text import CountVectorizer\n",
    "from keras.models import Sequential\n",
    "from keras.layers import Dense, Embedding, LSTM, SpatialDropout1D, Dropout\n",
    "from sklearn.model_selection import train_test_split\n",
    "from keras.utils.np_utils import to_categorical"
   ]
  },
  {
   "cell_type": "markdown",
   "metadata": {},
   "source": [
    "# Análisis de sentimientos"
   ]
  },
  {
   "cell_type": "markdown",
   "metadata": {},
   "source": [
    "### Datos\n",
    "Tuits sobre el debate del Partido Republicano a principios de agosto en Ohio."
   ]
  },
  {
   "cell_type": "code",
   "execution_count": 2,
   "metadata": {},
   "outputs": [],
   "source": [
    "data = pd.read_csv('first-gop-debate-twitter-sentiment/data/Sentiment.csv')\n",
    "\n",
    "# GUARDAR SOLO LAS COLUMNAS NECESARIAS (TEXTO, SENTIMIENTO)\n",
    "data = data[['text','sentiment']]"
   ]
  },
  {
   "cell_type": "code",
   "execution_count": 42,
   "metadata": {},
   "outputs": [
    {
     "data": {
      "text/html": [
       "<div>\n",
       "<style scoped>\n",
       "    .dataframe tbody tr th:only-of-type {\n",
       "        vertical-align: middle;\n",
       "    }\n",
       "\n",
       "    .dataframe tbody tr th {\n",
       "        vertical-align: top;\n",
       "    }\n",
       "\n",
       "    .dataframe thead th {\n",
       "        text-align: right;\n",
       "    }\n",
       "</style>\n",
       "<table border=\"1\" class=\"dataframe\">\n",
       "  <thead>\n",
       "    <tr style=\"text-align: right;\">\n",
       "      <th></th>\n",
       "      <th>text</th>\n",
       "      <th>sentiment</th>\n",
       "    </tr>\n",
       "  </thead>\n",
       "  <tbody>\n",
       "    <tr>\n",
       "      <td>1</td>\n",
       "      <td>scottwalker didnt catch the full gopdebate l...</td>\n",
       "      <td>Positive</td>\n",
       "    </tr>\n",
       "    <tr>\n",
       "      <td>3</td>\n",
       "      <td>robgeorge that carly fiorina is trending  ho...</td>\n",
       "      <td>Positive</td>\n",
       "    </tr>\n",
       "    <tr>\n",
       "      <td>4</td>\n",
       "      <td>danscavino gopdebate w realdonaldtrump deliv...</td>\n",
       "      <td>Positive</td>\n",
       "    </tr>\n",
       "    <tr>\n",
       "      <td>5</td>\n",
       "      <td>gregabbott_tx tedcruz on my first day i will...</td>\n",
       "      <td>Positive</td>\n",
       "    </tr>\n",
       "    <tr>\n",
       "      <td>6</td>\n",
       "      <td>warriorwoman91 i liked her and was happy whe...</td>\n",
       "      <td>Negative</td>\n",
       "    </tr>\n",
       "  </tbody>\n",
       "</table>\n",
       "</div>"
      ],
      "text/plain": [
       "                                                text sentiment\n",
       "1    scottwalker didnt catch the full gopdebate l...  Positive\n",
       "3    robgeorge that carly fiorina is trending  ho...  Positive\n",
       "4    danscavino gopdebate w realdonaldtrump deliv...  Positive\n",
       "5    gregabbott_tx tedcruz on my first day i will...  Positive\n",
       "6    warriorwoman91 i liked her and was happy whe...  Negative"
      ]
     },
     "execution_count": 42,
     "metadata": {},
     "output_type": "execute_result"
    }
   ],
   "source": [
    "data.head()"
   ]
  },
  {
   "cell_type": "code",
   "execution_count": 44,
   "metadata": {},
   "outputs": [
    {
     "name": "stdout",
     "output_type": "stream",
     "text": [
      "Tamaño de twitters positivos:  4472\n",
      "Tamaño de twitters negativos:  16986\n",
      "[  0   0   0   0   0   0   0   0   0   0   0  16 284 252   5 821 102 167\n",
      "  26 136   6   1 173  12   2 233 724  17]\n"
     ]
    }
   ],
   "source": [
    "data = data[data.sentiment != \"Neutral\"] # guardar solo positivos y negativos\n",
    "\n",
    "data['text'] = data['text'].apply(lambda x: x.lower()) # pasar a minusculas\n",
    "data['text'] = data['text'].apply((lambda x: re.sub('[^a-zA-z0-9\\s]','',x))) #elimar basura\n",
    "\n",
    "print(\"Tamaño de twitters positivos: \",data[ data['sentiment'] == 'Positive'].size)\n",
    "print(\"Tamaño de twitters negativos: \",data[ data['sentiment'] == 'Negative'].size)\n",
    "\n",
    "for idx,row in data.iterrows():\n",
    "    row[0] = row[0].replace('rt',' ')\n",
    "    \n",
    "max_fatures = 2000\n",
    "\n",
    "tokenizer = Tokenizer(num_words=max_fatures, split=' ')\n",
    "tokenizer.fit_on_texts(data['text'].values)\n",
    "\n",
    "X = tokenizer.texts_to_sequences(data['text'].values)\n",
    "X = pad_sequences(X)\n",
    "print(X[1])"
   ]
  },
  {
   "cell_type": "code",
   "execution_count": 4,
   "metadata": {},
   "outputs": [
    {
     "name": "stdout",
     "output_type": "stream",
     "text": [
      "(10729, 28)\n",
      "10729\n",
      "(10729, 2)\n",
      "21458\n"
     ]
    }
   ],
   "source": [
    "print(X.shape)\n",
    "print(len(data['text'].values))\n",
    "print(data.shape)\n",
    "print(4472+16986)"
   ]
  },
  {
   "cell_type": "markdown",
   "metadata": {},
   "source": [
    "### Configuracion del Modelo Secuencial LSTM"
   ]
  },
  {
   "cell_type": "code",
   "execution_count": 83,
   "metadata": {},
   "outputs": [
    {
     "name": "stdout",
     "output_type": "stream",
     "text": [
      "Model: \"sequential_21\"\n",
      "_________________________________________________________________\n",
      "Layer (type)                 Output Shape              Param #   \n",
      "=================================================================\n",
      "embedding_13 (Embedding)     (None, 28, 128)           256000    \n",
      "_________________________________________________________________\n",
      "spatial_dropout1d_13 (Spatia (None, 28, 128)           0         \n",
      "_________________________________________________________________\n",
      "lstm_19 (LSTM)               (None, 196)               254800    \n",
      "_________________________________________________________________\n",
      "dense_14 (Dense)             (None, 64)                12608     \n",
      "_________________________________________________________________\n",
      "dense_15 (Dense)             (None, 2)                 130       \n",
      "=================================================================\n",
      "Total params: 523,538\n",
      "Trainable params: 523,538\n",
      "Non-trainable params: 0\n",
      "_________________________________________________________________\n",
      "None\n"
     ]
    }
   ],
   "source": [
    "dim_embed = 128 # dimension de los datos\n",
    "lstm_out = 196  # dimension de la capa lstm\n",
    "\n",
    "model = Sequential() # Modelo secuencial\n",
    "\n",
    "def modelo_1():\n",
    "    # la capa 'Embedding' realiza el embedim de entrada, mo es necesario hacer anteriormente \n",
    "    model.add(Embedding(max_fatures, dim_embed,input_length = X.shape[1]))\n",
    "\n",
    "    model.add(LSTM(lstm_out, dropout=0.3, recurrent_dropout=0.1))\n",
    "\n",
    "    model.add(Dense(2,activation='softmax'))\n",
    "\n",
    "    model.compile(loss = 'categorical_crossentropy', optimizer='adam',metrics = ['accuracy'])\n",
    "\n",
    "def modelo_2():\n",
    "    model.add(Embedding(max_fatures, dim_embed,input_length = X.shape[1]))\n",
    "    model.add(SpatialDropout1D(0.4))\n",
    "    model.add(LSTM(lstm_out, dropout=0.1, recurrent_dropout=0.1))\n",
    "\n",
    "    model.add(Dense(2,activation='softmax'))\n",
    "\n",
    "    model.compile(loss = 'categorical_crossentropy', optimizer='adam',metrics = ['accuracy'])\n",
    "\n",
    "def modelo_3():\n",
    "    model.add(Embedding(max_fatures, dim_embed,input_length = X.shape[1]))\n",
    "    \n",
    "    model.add(SpatialDropout1D(0.4))\n",
    "    model.add(LSTM(lstm_out, dropout=0.1, recurrent_dropout=0.1))\n",
    "    \n",
    "    model.add(Dense(64, activation='relu'))\n",
    "    \n",
    "    model.add(Dense(2, activation='softmax'))\n",
    "    \n",
    "    model.compile(loss='categorical_crossentropy', optimizer='adam', metrics=['accuracy'])\n",
    "\n",
    "def modelo_4():\n",
    "    model.add(Embedding(max_fatures, dim_embed,input_length = X.shape[1]))\n",
    "    \n",
    "    model.add(SpatialDropout1D(0.4))\n",
    "    model.add(LSTM(lstm_out, dropout=0.1, recurrent_dropout=0.1, return_sequences=True))\n",
    "    \n",
    "    model.add(LSTM(lstm_out, return_sequences=True))\n",
    "    model.add(Dense(2, activation='softmax'))\n",
    "    \n",
    "    model.add(LSTM(lstm_out))\n",
    "    model.add(Dense(2, activation='softmax'))\n",
    "    model.compile(loss='categorical_crossentropy', optimizer='adam', metrics=['accuracy'])\n",
    "\n",
    "modelo_3()\n",
    "print(model.summary())\n"
   ]
  },
  {
   "cell_type": "code",
   "execution_count": null,
   "metadata": {},
   "outputs": [],
   "source": []
  },
  {
   "cell_type": "code",
   "execution_count": 10,
   "metadata": {},
   "outputs": [
    {
     "name": "stdout",
     "output_type": "stream",
     "text": [
      "[[0 1]\n",
      " [0 1]\n",
      " [0 1]\n",
      " ...\n",
      " [0 1]\n",
      " [1 0]\n",
      " [0 1]]\n",
      "(7188, 28) (7188, 2)\n",
      "(3541, 28) (3541, 2)\n"
     ]
    }
   ],
   "source": [
    "Y = pd.get_dummies(data['sentiment']).values # convertir las categorias 'negativo', 'positivo' a representacion vect [0 1] = positivo, [1 0] = negativo\n",
    "print(Y)\n",
    "X_train, X_test, Y_train, Y_test = train_test_split(X,Y, test_size = 0.33, random_state = 42)\n",
    "\n",
    "print(X_train.shape,Y_train.shape)\n",
    "print(X_test.shape,Y_test.shape)"
   ]
  },
  {
   "cell_type": "code",
   "execution_count": 84,
   "metadata": {},
   "outputs": [
    {
     "name": "stdout",
     "output_type": "stream",
     "text": [
      "Train on 5750 samples, validate on 1438 samples\n",
      "Epoch 1/20\n",
      " - 9s - loss: 0.4527 - accuracy: 0.8104 - val_loss: 0.3693 - val_accuracy: 0.8435\n",
      "Epoch 2/20\n",
      " - 8s - loss: 0.3182 - accuracy: 0.8630 - val_loss: 0.3633 - val_accuracy: 0.8491\n",
      "Epoch 3/20\n",
      " - 8s - loss: 0.2723 - accuracy: 0.8866 - val_loss: 0.4273 - val_accuracy: 0.8505\n",
      "Epoch 4/20\n",
      " - 8s - loss: 0.2370 - accuracy: 0.9033 - val_loss: 0.4157 - val_accuracy: 0.8408\n",
      "Epoch 5/20\n",
      " - 8s - loss: 0.2052 - accuracy: 0.9160 - val_loss: 0.4117 - val_accuracy: 0.8296\n",
      "Epoch 6/20\n",
      " - 9s - loss: 0.1834 - accuracy: 0.9261 - val_loss: 0.4697 - val_accuracy: 0.8435\n",
      "Epoch 7/20\n",
      " - 9s - loss: 0.1661 - accuracy: 0.9325 - val_loss: 0.5056 - val_accuracy: 0.8185\n",
      "Epoch 8/20\n",
      " - 8s - loss: 0.1417 - accuracy: 0.9440 - val_loss: 0.6194 - val_accuracy: 0.8401\n",
      "Epoch 9/20\n",
      " - 8s - loss: 0.1271 - accuracy: 0.9468 - val_loss: 0.6315 - val_accuracy: 0.8387\n",
      "Epoch 10/20\n",
      " - 8s - loss: 0.1214 - accuracy: 0.9510 - val_loss: 0.6833 - val_accuracy: 0.8268\n",
      "Epoch 11/20\n",
      " - 8s - loss: 0.1102 - accuracy: 0.9522 - val_loss: 0.7235 - val_accuracy: 0.8220\n",
      "Epoch 12/20\n",
      " - 8s - loss: 0.0998 - accuracy: 0.9560 - val_loss: 0.7986 - val_accuracy: 0.8157\n",
      "Epoch 13/20\n",
      " - 8s - loss: 0.0995 - accuracy: 0.9570 - val_loss: 0.8086 - val_accuracy: 0.8261\n",
      "Epoch 14/20\n",
      " - 7s - loss: 0.0862 - accuracy: 0.9626 - val_loss: 0.8007 - val_accuracy: 0.8310\n",
      "Epoch 15/20\n",
      " - 7s - loss: 0.0863 - accuracy: 0.9635 - val_loss: 0.9054 - val_accuracy: 0.8178\n",
      "Epoch 16/20\n",
      " - 8s - loss: 0.0793 - accuracy: 0.9650 - val_loss: 0.8373 - val_accuracy: 0.8234\n",
      "Epoch 17/20\n",
      " - 8s - loss: 0.0803 - accuracy: 0.9666 - val_loss: 0.8374 - val_accuracy: 0.8282\n",
      "Epoch 18/20\n",
      " - 20s - loss: 0.0790 - accuracy: 0.9675 - val_loss: 0.8818 - val_accuracy: 0.8185\n",
      "Epoch 19/20\n",
      " - 21s - loss: 0.0799 - accuracy: 0.9647 - val_loss: 0.9111 - val_accuracy: 0.8317\n",
      "Epoch 20/20\n",
      " - 21s - loss: 0.0719 - accuracy: 0.9706 - val_loss: 0.9861 - val_accuracy: 0.8220\n"
     ]
    }
   ],
   "source": [
    "batch_size = 32\n",
    "historia = model.fit(X_train, Y_train, validation_split=0.20,epochs = 20, batch_size=batch_size, verbose = 2)"
   ]
  },
  {
   "cell_type": "code",
   "execution_count": 46,
   "metadata": {},
   "outputs": [
    {
     "name": "stdout",
     "output_type": "stream",
     "text": [
      "dict_keys(['val_loss', 'val_accuracy', 'loss', 'accuracy'])\n"
     ]
    }
   ],
   "source": [
    "print(historia.history.keys())"
   ]
  },
  {
   "cell_type": "code",
   "execution_count": null,
   "metadata": {},
   "outputs": [],
   "source": []
  },
  {
   "cell_type": "markdown",
   "metadata": {},
   "source": [
    "### Visualizar la curva de aprendizaje"
   ]
  },
  {
   "cell_type": "code",
   "execution_count": 85,
   "metadata": {},
   "outputs": [
    {
     "data": {
      "image/png": "[encoded data removed]",
      "text/plain": [
       "<Figure size 432x288 with 1 Axes>"
      ]
     },
     "metadata": {
      "needs_background": "light"
     },
     "output_type": "display_data"
    }
   ],
   "source": [
    "num_epocas = 1000\n",
    "\n",
    "plt.plot(historia.history['loss'], 'r--')\n",
    "plt.plot(historia.history['val_loss'], 'b-')\n",
    "plt.legend(['Training Loss', 'Validation Loss'])\n",
    "plt.xlabel('Epoca')\n",
    "plt.ylabel('Loss')\n",
    "plt.show()"
   ]
  },
  {
   "cell_type": "code",
   "execution_count": null,
   "metadata": {},
   "outputs": [],
   "source": []
  }
 ],
 "metadata": {
  "kernelspec": {
   "display_name": "Python 3",
   "language": "python",
   "name": "python3"
  },
  "language_info": {
   "codemirror_mode": {
    "name": "ipython",
    "version": 3
   },
   "file_extension": ".py",
   "mimetype": "text/x-python",
   "name": "python",
   "nbconvert_exporter": "python",
   "pygments_lexer": "ipython3",
   "version": "3.7.4"
  }
 },
 "nbformat": 4,
 "nbformat_minor": 4
}
