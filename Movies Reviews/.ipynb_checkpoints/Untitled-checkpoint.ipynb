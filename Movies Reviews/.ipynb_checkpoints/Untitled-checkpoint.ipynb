{
 "cells": [
  {
   "cell_type": "code",
   "execution_count": 1,
   "metadata": {},
   "outputs": [
    {
     "name": "stderr",
     "output_type": "stream",
     "text": [
      "Using TensorFlow backend.\n"
     ]
    }
   ],
   "source": [
    "import utils\n",
    "\n",
    "import pandas as pd\n",
    "import matplotlib.pyplot as plt\n",
    "import seaborn as sns\n",
    "\n",
    "from scipy.stats import norm\n",
    "\n",
    "import nltk\n",
    "#nltk.download('wordnet')\n",
    "#nltk.download('stopwords')\n",
    "from nltk.corpus import stopwords\n",
    "\n",
    "import numpy as np\n",
    "\n",
    "import sklearn.model_selection\n",
    "\n",
    "import torch\n",
    "\n",
    "from keras.models import Sequential\n",
    "from keras.layers import Dense, Embedding, LSTM, SpatialDropout1D, Dropout\n",
    "import keras\n",
    "\n",
    "import pydot\n",
    "\n",
    "import matplotlib.pyplot as plt"
   ]
  },
  {
   "cell_type": "markdown",
   "metadata": {},
   "source": [
    "# Análisis de sentimientos"
   ]
  },
  {
   "cell_type": "code",
   "execution_count": 2,
   "metadata": {},
   "outputs": [],
   "source": [
    "stop_words = set(stopwords.words('english'))"
   ]
  },
  {
   "cell_type": "markdown",
   "metadata": {},
   "source": [
    "## Datos"
   ]
  },
  {
   "cell_type": "markdown",
   "metadata": {},
   "source": [
    "El conjunto de datos se compone de archivos separados por tabulaciones con frases del conjunto de datos de Rotten Tomatoes. La división de train/test se ha conservado con fines de evaluación comparativa, pero las oraciones se han barajado de su orden original. Cada oración ha sido analizada en muchas frases por el analizador Stanford. Cada frase tiene un PhraseId. Cada oración tiene un SentenceId. Las frases que se repiten (como palabras cortas / comunes) solo se incluyen una vez en los datos.\n",
    "\n",
    "     train.tsv contiene las frases y sus etiquetas de sentimiento asociadas. También hemos proporcionado un SentenceId para que pueda rastrear qué frases pertenecen a una sola oración.\n",
    "     test.tsv contiene solo frases. Debe asignar una etiqueta de sentimiento a cada frase.\n",
    "\n",
    "Conjunto        | TAMAÑO    | \n",
    "----------------|-----------|\n",
    "Entrenamiento   | 156060    |\n",
    "Prueba          |  66292    |\n",
    "\n",
    "ETIQUETA | SENTIMIENTO |\n",
    "---------|-------------|\n",
    "0        | negativo    |\n",
    "1        |algo negativo|\n",
    "2        | neutral     |\n",
    "3        |algo positivo|\n",
    "4        | positivo    |\n",
    "\n",
    "Información del conjunto de entrenamiento\n",
    "\n",
    "SENTIMIENTO|  NUM. REVIEWS  |\n",
    "-----------|----------------|\n",
    "0          |     7072       |\n",
    "1          |     27273      |\n",
    "2          |     79582      |\n",
    "3          |     32927      |\n",
    "4          |     9206       |\n",
    "*          |     156060     |\n"
   ]
  },
  {
   "cell_type": "markdown",
   "metadata": {},
   "source": [
    "### Exploración de los datos"
   ]
  },
  {
   "cell_type": "code",
   "execution_count": 3,
   "metadata": {},
   "outputs": [],
   "source": [
    "# cargar los archivos de los datos\n",
    "df_train = pd.read_csv('DATA/train.tsv', sep=\"\\t\")\n",
    "df_test = pd.read_csv(\"DATA/test.tsv\", sep=\"\\t\")"
   ]
  },
  {
   "cell_type": "code",
   "execution_count": 4,
   "metadata": {},
   "outputs": [
    {
     "name": "stdout",
     "output_type": "stream",
     "text": [
      "Tamaño del conjunto de entrenamiento:  156060\n",
      "Tamaño del conjunto de pruebas:  156060\n"
     ]
    }
   ],
   "source": [
    "print(\"Tamaño del conjunto de entrenamiento: \", df_train.shape[0])\n",
    "print(\"Tamaño del conjunto de pruebas: \", df_train.shape[0])"
   ]
  },
  {
   "cell_type": "code",
   "execution_count": 5,
   "metadata": {},
   "outputs": [
    {
     "data": {
      "text/html": [
       "<div>\n",
       "<style scoped>\n",
       "    .dataframe tbody tr th:only-of-type {\n",
       "        vertical-align: middle;\n",
       "    }\n",
       "\n",
       "    .dataframe tbody tr th {\n",
       "        vertical-align: top;\n",
       "    }\n",
       "\n",
       "    .dataframe thead th {\n",
       "        text-align: right;\n",
       "    }\n",
       "</style>\n",
       "<table border=\"1\" class=\"dataframe\">\n",
       "  <thead>\n",
       "    <tr style=\"text-align: right;\">\n",
       "      <th></th>\n",
       "      <th>PhraseId</th>\n",
       "      <th>SentenceId</th>\n",
       "      <th>Phrase</th>\n",
       "      <th>Sentiment</th>\n",
       "    </tr>\n",
       "  </thead>\n",
       "  <tbody>\n",
       "    <tr>\n",
       "      <td>0</td>\n",
       "      <td>1</td>\n",
       "      <td>1</td>\n",
       "      <td>A series of escapades demonstrating the adage ...</td>\n",
       "      <td>1</td>\n",
       "    </tr>\n",
       "    <tr>\n",
       "      <td>1</td>\n",
       "      <td>2</td>\n",
       "      <td>1</td>\n",
       "      <td>A series of escapades demonstrating the adage ...</td>\n",
       "      <td>2</td>\n",
       "    </tr>\n",
       "    <tr>\n",
       "      <td>2</td>\n",
       "      <td>3</td>\n",
       "      <td>1</td>\n",
       "      <td>A series</td>\n",
       "      <td>2</td>\n",
       "    </tr>\n",
       "    <tr>\n",
       "      <td>3</td>\n",
       "      <td>4</td>\n",
       "      <td>1</td>\n",
       "      <td>A</td>\n",
       "      <td>2</td>\n",
       "    </tr>\n",
       "    <tr>\n",
       "      <td>4</td>\n",
       "      <td>5</td>\n",
       "      <td>1</td>\n",
       "      <td>series</td>\n",
       "      <td>2</td>\n",
       "    </tr>\n",
       "  </tbody>\n",
       "</table>\n",
       "</div>"
      ],
      "text/plain": [
       "   PhraseId  SentenceId                                             Phrase  \\\n",
       "0         1           1  A series of escapades demonstrating the adage ...   \n",
       "1         2           1  A series of escapades demonstrating the adage ...   \n",
       "2         3           1                                           A series   \n",
       "3         4           1                                                  A   \n",
       "4         5           1                                             series   \n",
       "\n",
       "   Sentiment  \n",
       "0          1  \n",
       "1          2  \n",
       "2          2  \n",
       "3          2  \n",
       "4          2  "
      ]
     },
     "execution_count": 5,
     "metadata": {},
     "output_type": "execute_result"
    }
   ],
   "source": [
    "df_train.head()"
   ]
  },
  {
   "cell_type": "code",
   "execution_count": 6,
   "metadata": {},
   "outputs": [
    {
     "data": {
      "image/png": "[encoded data removed]",
      "text/plain": [
       "<Figure size 720x432 with 1 Axes>"
      ]
     },
     "metadata": {
      "needs_background": "light"
     },
     "output_type": "display_data"
    }
   ],
   "source": [
    "distribucion = df_train.groupby([\"Sentiment\"]).size() # resume en tercera tabla\n",
    "\n",
    "fig, ax = plt.subplots(figsize=(10,6))\n",
    "sns.barplot(distribucion.keys(), distribucion.values);\n",
    "#sns.distplot(distribucion.values, fit=norm, kde=False)"
   ]
  },
  {
   "cell_type": "markdown",
   "metadata": {},
   "source": [
    "### Pre-procesamiento de los datos"
   ]
  },
  {
   "cell_type": "markdown",
   "metadata": {},
   "source": [
    "Las palabras deben ser tokenizadas en formato numérico para pasar a RNN.\n",
    "\n",
    "Filtrar espacios y signos de puntuación.\n",
    "\n",
    "Lematizar para reducir aún más la dimensionalidad.\n",
    "\n",
    "Eliminar stop-words."
   ]
  },
  {
   "cell_type": "code",
   "execution_count": null,
   "metadata": {},
   "outputs": [],
   "source": []
  },
  {
   "cell_type": "markdown",
   "metadata": {},
   "source": [
    "El siguiente paso es convertir palabras en vectores de números."
   ]
  },
  {
   "cell_type": "code",
   "execution_count": 11,
   "metadata": {},
   "outputs": [
    {
     "name": "stdout",
     "output_type": "stream",
     "text": [
      "16209\n",
      "16209\n",
      "['insouciance', 'fully', 'scruffy', 'clear', 'prosaic', 'sleekness', 'heist', 'clockstoppers', 'creations', 'transvestite']\n",
      "[('insouciance', 1), ('fully', 2), ('scruffy', 3), ('clear', 4), ('prosaic', 5), ('sleekness', 6), ('heist', 7), ('clockstoppers', 8), ('creations', 9), ('transvestite', 10)]\n"
     ]
    }
   ],
   "source": [
    "# crear una bolsa de palabras para codificar las frases a vectores\n",
    "bag_words = set()\n",
    "for phrase in df_train['Words']:\n",
    "    for word in phrase:\n",
    "        bag_words.add(word)\n",
    "        \n",
    "\n",
    "print(len(bag_words))"
   ]
  },
  {
   "cell_type": "markdown",
   "metadata": {},
   "source": [
    "Ahora, como las redes neuronales deben de tener una logitud igual para cada entrada, entonces completamos los vectores con 0's para que tengan la logitud del vector mayor longitud."
   ]
  },
  {
   "cell_type": "code",
   "execution_count": 14,
   "metadata": {},
   "outputs": [
    {
     "name": "stdout",
     "output_type": "stream",
     "text": [
      "[[11173 15038  7745 14358  7095  9682  7309   901  6627  8350  9722 12389\n",
      "   9682  7733  8350 14410  9722 12389  9682 11415  6446  7745 14782 11776\n",
      "    712  3161  1938  7745 14782  7772 10121  4083  7745 11173 11146     0\n",
      "      0     0     0     0     0     0     0     0     0     0     0     0]\n",
      " [11173 15038  7745 14358  7095  9682  7309   901  6627  8350  9722 12389\n",
      "   9682  7733     0     0     0     0     0     0     0     0     0     0\n",
      "      0     0     0     0     0     0     0     0     0     0     0     0\n",
      "      0     0     0     0     0     0     0     0     0     0     0     0]\n",
      " [11173 15038     0     0     0     0     0     0     0     0     0     0\n",
      "      0     0     0     0     0     0     0     0     0     0     0     0\n",
      "      0     0     0     0     0     0     0     0     0     0     0     0\n",
      "      0     0     0     0     0     0     0     0     0     0     0     0]]\n",
      "Dimension de la matriz de datos:  (156060, 48)\n"
     ]
    }
   ],
   "source": [
    "# Pasar a datos categoricos las clases\n",
    "\n",
    "Y = np.array([l for l in df_train['Sentiment']])\n",
    "Y = keras.utils.np_utils.to_categorical(Y)\n",
    "\n",
    "# NUMERO DE CLASES\n",
    "num_class = Y.shape[1]"
   ]
  },
  {
   "cell_type": "code",
   "execution_count": 32,
   "metadata": {},
   "outputs": [],
   "source": [
    "\"\"\"\n",
    "    Convertir cada enunciado a representación de vectores \n",
    "        para la entrada de la red neuronal\n",
    "\"\"\"\n",
    "tokenizer = keras.preprocessing.text.Tokenizer(num_words=len(list(bag_words)))\n",
    "tokenizer.fit_on_texts(list(df_train['Phrase']))\n",
    "\n",
    "\n",
    "X_p = tokenizer.texts_to_sequences(df_train['Phrase'])\n",
    "\n",
    "#padding done to equalize the lengths of all input reviews. LSTM networks needs all inputs to be same length.\n",
    "#Therefore reviews lesser than max length will be made equal using extra zeros at end. This is padding.\n",
    "\n",
    "X_p = keras.preprocessing.sequence.pad_sequences(X_p, maxlen=max_len)"
   ]
  },
  {
   "cell_type": "markdown",
   "metadata": {},
   "source": [
    "#### Dividir los datos para entrenamiento, validación y prueba\n",
    "\n",
    "Para este trabajo, se propone el 80% para entrenamiento y el 20% restante para prueba."
   ]
  },
  {
   "cell_type": "code",
   "execution_count": 33,
   "metadata": {},
   "outputs": [
    {
     "name": "stdout",
     "output_type": "stream",
     "text": [
      "\t\t\tDimesiones datos: \t\t\tDimensiones etiquetas\n",
      "Train set: \t\t(124848, 48) \n",
      "Test set: \t\t(31212, 48)\n"
     ]
    }
   ],
   "source": [
    "\n",
    "# utilizando la funcion de keras\n",
    "X_train, X_test, Y_train, Y_test = sklearn.model_selection.train_test_split(X_p,Y, test_size = .2 , random_state = 42)\n",
    "\n",
    "print(\"\\t\\t\\tDimesiones datos: \\t\\t\\tDimensiones etiquetas\")\n",
    "print(\"Train set: \\t\\t{}\".format(X_train.shape),\n",
    "      \"\\nTest set: \\t\\t{}\".format(X_test.shape))"
   ]
  },
  {
   "cell_type": "code",
   "execution_count": 16,
   "metadata": {},
   "outputs": [
    {
     "name": "stdout",
     "output_type": "stream",
     "text": [
      "(124848, 48) (124848, 5)\n",
      "(31212, 48) (31212, 5)\n"
     ]
    }
   ],
   "source": [
    "print(X_train.shape,Y_train.shape)\n",
    "print(X_test.shape,Y_test.shape)"
   ]
  },
  {
   "cell_type": "markdown",
   "metadata": {},
   "source": [
    "## Modelo de red profunda"
   ]
  },
  {
   "cell_type": "markdown",
   "metadata": {},
   "source": [
    "1) Primero, pasaremos las palabras a una capa de incrustación. Necesitamos una capa de incrustación porque tenemos miles de palabras, por lo que necesitaremos una representación más eficiente para nuestros datos de entrada que los vectores codificados en caliente. En este caso, la capa de inclusión es para la reducción de la dimensionalidad, en lugar de para aprender representaciones semánticas.\n"
   ]
  },
  {
   "cell_type": "code",
   "execution_count": 17,
   "metadata": {},
   "outputs": [
    {
     "name": "stdout",
     "output_type": "stream",
     "text": [
      "Disponible.\n"
     ]
    }
   ],
   "source": [
    "# First checking if GPU is available\n",
    "gpu=torch.cuda.is_available()\n",
    "\n",
    "if(gpu):\n",
    "    print('Disponible.')\n",
    "else:\n",
    "    print('No disponible.')"
   ]
  },
  {
   "cell_type": "code",
   "execution_count": 34,
   "metadata": {},
   "outputs": [
    {
     "name": "stdout",
     "output_type": "stream",
     "text": [
      "Model: \"sequential_2\"\n",
      "_________________________________________________________________\n",
      "Layer (type)                 Output Shape              Param #   \n",
      "=================================================================\n",
      "embedding_2 (Embedding)      (None, 48, 300)           4862700   \n",
      "_________________________________________________________________\n",
      "lstm_3 (LSTM)                (None, 48, 128)           219648    \n",
      "_________________________________________________________________\n",
      "lstm_4 (LSTM)                (None, 64)                49408     \n",
      "_________________________________________________________________\n",
      "dense_3 (Dense)              (None, 100)               6500      \n",
      "_________________________________________________________________\n",
      "dropout_2 (Dropout)          (None, 100)               0         \n",
      "_________________________________________________________________\n",
      "dense_4 (Dense)              (None, 5)                 505       \n",
      "=================================================================\n",
      "Total params: 5,138,761\n",
      "Trainable params: 5,138,761\n",
      "Non-trainable params: 0\n",
      "_________________________________________________________________\n"
     ]
    }
   ],
   "source": [
    "model=Sequential()\n",
    "\n",
    "model.add(Embedding(len(list(bag_words)),300,input_length=max_len))\n",
    "\n",
    "model.add(LSTM(128,dropout=0.5, recurrent_dropout=0.5,return_sequences=True))\n",
    "\n",
    "model.add(LSTM(64,dropout=0.5, recurrent_dropout=0.5,return_sequences=False))\n",
    "\n",
    "model.add(Dense(100,activation='relu'))\n",
    "\n",
    "model.add(Dropout(0.5))\n",
    "\n",
    "model.add(Dense(num_class,activation='softmax'))\n",
    "\n",
    "model.compile(loss='categorical_crossentropy', optimizer='adam', metrics=['accuracy'])\n",
    "\n",
    "model.summary()"
   ]
  },
  {
   "cell_type": "code",
   "execution_count": 35,
   "metadata": {},
   "outputs": [],
   "source": [
    "# Estructura\n",
    "#keras.utils.plot_model(model, 'model.png')"
   ]
  },
  {
   "cell_type": "code",
   "execution_count": 36,
   "metadata": {},
   "outputs": [
    {
     "name": "stdout",
     "output_type": "stream",
     "text": [
      "Train on 99878 samples, validate on 24970 samples\n",
      "Epoch 1/6\n",
      " - 150s - loss: 1.1703 - accuracy: 0.5397 - val_loss: 0.9916 - val_accuracy: 0.6108\n",
      "Epoch 2/6\n",
      " - 151s - loss: 0.9073 - accuracy: 0.6403 - val_loss: 0.8669 - val_accuracy: 0.6491\n",
      "Epoch 3/6\n",
      " - 158s - loss: 0.8079 - accuracy: 0.6747 - val_loss: 0.8423 - val_accuracy: 0.6531\n",
      "Epoch 4/6\n",
      " - 160s - loss: 0.7574 - accuracy: 0.6939 - val_loss: 0.8389 - val_accuracy: 0.6580\n",
      "Epoch 5/6\n",
      " - 160s - loss: 0.7220 - accuracy: 0.7042 - val_loss: 0.8366 - val_accuracy: 0.6558\n",
      "Epoch 6/6\n",
      " - 155s - loss: 0.6931 - accuracy: 0.7143 - val_loss: 0.8435 - val_accuracy: 0.6592\n"
     ]
    }
   ],
   "source": [
    "batch_size = 256\n",
    "historia = model.fit(X_train, Y_train, validation_split=0.20,epochs = 6, batch_size=batch_size, verbose = 2)"
   ]
  },
  {
   "cell_type": "markdown",
   "metadata": {},
   "source": [
    "## Visualizar la curva de aprendizaje"
   ]
  },
  {
   "cell_type": "code",
   "execution_count": 37,
   "metadata": {},
   "outputs": [
    {
     "data": {
      "image/png": "[encoded data removed]",
      "text/plain": [
       "<Figure size 432x288 with 1 Axes>"
      ]
     },
     "metadata": {
      "needs_background": "light"
     },
     "output_type": "display_data"
    }
   ],
   "source": [
    "# crear lista del numero de epocas realizadas\n",
    "num_epocas = range(1, len(historia.history['loss']) + 1)\n",
    "\n",
    "plt.plot(historia.history['loss'], 'r--')\n",
    "plt.plot(historia.history['val_loss'], 'b-')\n",
    "plt.legend(['Training Loss', 'Validation Loss'])\n",
    "plt.xlabel('Epoca')\n",
    "plt.ylabel('Loss')\n",
    "plt.show()"
   ]
  },
  {
   "cell_type": "code",
   "execution_count": null,
   "metadata": {},
   "outputs": [],
   "source": []
  }
 ],
 "metadata": {
  "kernelspec": {
   "display_name": "Python 3",
   "language": "python",
   "name": "python3"
  },
  "language_info": {
   "codemirror_mode": {
    "name": "ipython",
    "version": 3
   },
   "file_extension": ".py",
   "mimetype": "text/x-python",
   "name": "python",
   "nbconvert_exporter": "python",
   "pygments_lexer": "ipython3",
   "version": "3.7.4"
  }
 },
 "nbformat": 4,
 "nbformat_minor": 4
}
